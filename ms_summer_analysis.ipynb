{
 "cells": [
  {
   "cell_type": "code",
   "execution_count": 1,
   "metadata": {},
   "outputs": [],
   "source": [
    "import pandas as pd"
   ]
  },
  {
   "cell_type": "code",
   "execution_count": 21,
   "metadata": {},
   "outputs": [],
   "source": [
    "import matplotlib.pyplot as plt\n",
    "import numpy as np"
   ]
  },
  {
   "cell_type": "code",
   "execution_count": 3,
   "metadata": {},
   "outputs": [],
   "source": [
    "PATH = '2017/Student-Feedback-Surveys-Superview.csv'"
   ]
  },
  {
   "cell_type": "code",
   "execution_count": 4,
   "metadata": {},
   "outputs": [],
   "source": [
    "df = pd.read_csv(PATH)"
   ]
  },
  {
   "cell_type": "code",
   "execution_count": 80,
   "metadata": {},
   "outputs": [
    {
     "data": {
      "text/html": [
       "<div>\n",
       "<style scoped>\n",
       "    .dataframe tbody tr th:only-of-type {\n",
       "        vertical-align: middle;\n",
       "    }\n",
       "\n",
       "    .dataframe tbody tr th {\n",
       "        vertical-align: top;\n",
       "    }\n",
       "\n",
       "    .dataframe thead th {\n",
       "        text-align: right;\n",
       "    }\n",
       "</style>\n",
       "<table border=\"1\" class=\"dataframe\">\n",
       "  <thead>\n",
       "    <tr style=\"text-align: right;\">\n",
       "      <th></th>\n",
       "      <th>ID</th>\n",
       "      <th>Location</th>\n",
       "      <th>Track</th>\n",
       "      <th>Week</th>\n",
       "      <th>Rating (Num)</th>\n",
       "      <th>Schedule Pacing</th>\n",
       "    </tr>\n",
       "  </thead>\n",
       "  <tbody>\n",
       "    <tr>\n",
       "      <th>0</th>\n",
       "      <td>134</td>\n",
       "      <td>San Francisco</td>\n",
       "      <td>Apps, Explorer</td>\n",
       "      <td>1</td>\n",
       "      <td>3</td>\n",
       "      <td>Just right</td>\n",
       "    </tr>\n",
       "    <tr>\n",
       "      <th>1</th>\n",
       "      <td>36</td>\n",
       "      <td>Los Angeles</td>\n",
       "      <td>Apps</td>\n",
       "      <td>1</td>\n",
       "      <td>4</td>\n",
       "      <td>A little too fast</td>\n",
       "    </tr>\n",
       "    <tr>\n",
       "      <th>2</th>\n",
       "      <td>117</td>\n",
       "      <td>San Francisco</td>\n",
       "      <td>Games</td>\n",
       "      <td>1</td>\n",
       "      <td>4</td>\n",
       "      <td>Way too slow</td>\n",
       "    </tr>\n",
       "    <tr>\n",
       "      <th>3</th>\n",
       "      <td>253</td>\n",
       "      <td>NaN</td>\n",
       "      <td>NaN</td>\n",
       "      <td>2</td>\n",
       "      <td>4</td>\n",
       "      <td>A little too fast</td>\n",
       "    </tr>\n",
       "    <tr>\n",
       "      <th>4</th>\n",
       "      <td>350</td>\n",
       "      <td>New York City</td>\n",
       "      <td>Apps, Explorer</td>\n",
       "      <td>1</td>\n",
       "      <td>4</td>\n",
       "      <td>Just right</td>\n",
       "    </tr>\n",
       "    <tr>\n",
       "      <th>5</th>\n",
       "      <td>23</td>\n",
       "      <td>Redwood City</td>\n",
       "      <td>Apps</td>\n",
       "      <td>1</td>\n",
       "      <td>5</td>\n",
       "      <td>Just right</td>\n",
       "    </tr>\n",
       "    <tr>\n",
       "      <th>6</th>\n",
       "      <td>28</td>\n",
       "      <td>Los Angeles</td>\n",
       "      <td>Apps</td>\n",
       "      <td>7</td>\n",
       "      <td>5</td>\n",
       "      <td>Just right</td>\n",
       "    </tr>\n",
       "    <tr>\n",
       "      <th>7</th>\n",
       "      <td>65</td>\n",
       "      <td>San Francisco</td>\n",
       "      <td>Apps</td>\n",
       "      <td>1</td>\n",
       "      <td>5</td>\n",
       "      <td>A little too slow</td>\n",
       "    </tr>\n",
       "    <tr>\n",
       "      <th>8</th>\n",
       "      <td>101</td>\n",
       "      <td>Santa Clara</td>\n",
       "      <td>Apps</td>\n",
       "      <td>1</td>\n",
       "      <td>5</td>\n",
       "      <td>A little too slow</td>\n",
       "    </tr>\n",
       "    <tr>\n",
       "      <th>9</th>\n",
       "      <td>124</td>\n",
       "      <td>Santa Clara</td>\n",
       "      <td>Apps</td>\n",
       "      <td>1</td>\n",
       "      <td>5</td>\n",
       "      <td>Just right</td>\n",
       "    </tr>\n",
       "    <tr>\n",
       "      <th>10</th>\n",
       "      <td>157</td>\n",
       "      <td>Redwood City</td>\n",
       "      <td>Apps</td>\n",
       "      <td>2</td>\n",
       "      <td>5</td>\n",
       "      <td>Just right</td>\n",
       "    </tr>\n",
       "    <tr>\n",
       "      <th>11</th>\n",
       "      <td>170</td>\n",
       "      <td>Oakland</td>\n",
       "      <td>Apps</td>\n",
       "      <td>2</td>\n",
       "      <td>5</td>\n",
       "      <td>Just right</td>\n",
       "    </tr>\n",
       "    <tr>\n",
       "      <th>12</th>\n",
       "      <td>255</td>\n",
       "      <td>San Francisco</td>\n",
       "      <td>Apps</td>\n",
       "      <td>2</td>\n",
       "      <td>5</td>\n",
       "      <td>Way too fast</td>\n",
       "    </tr>\n",
       "    <tr>\n",
       "      <th>13</th>\n",
       "      <td>289</td>\n",
       "      <td>Washington DC</td>\n",
       "      <td>Apps</td>\n",
       "      <td>1</td>\n",
       "      <td>5</td>\n",
       "      <td>Just right</td>\n",
       "    </tr>\n",
       "    <tr>\n",
       "      <th>14</th>\n",
       "      <td>299</td>\n",
       "      <td>Washington DC</td>\n",
       "      <td>Apps, Explorer</td>\n",
       "      <td>1</td>\n",
       "      <td>5</td>\n",
       "      <td>A little too slow</td>\n",
       "    </tr>\n",
       "    <tr>\n",
       "      <th>15</th>\n",
       "      <td>307</td>\n",
       "      <td>NaN</td>\n",
       "      <td>NaN</td>\n",
       "      <td>3</td>\n",
       "      <td>5</td>\n",
       "      <td>A little too slow</td>\n",
       "    </tr>\n",
       "    <tr>\n",
       "      <th>16</th>\n",
       "      <td>319</td>\n",
       "      <td>Redwood City</td>\n",
       "      <td>Apps</td>\n",
       "      <td>3</td>\n",
       "      <td>5</td>\n",
       "      <td>Just right</td>\n",
       "    </tr>\n",
       "    <tr>\n",
       "      <th>17</th>\n",
       "      <td>336</td>\n",
       "      <td>New York City</td>\n",
       "      <td>Apps</td>\n",
       "      <td>1</td>\n",
       "      <td>5</td>\n",
       "      <td>A little too slow</td>\n",
       "    </tr>\n",
       "    <tr>\n",
       "      <th>18</th>\n",
       "      <td>441</td>\n",
       "      <td>San Francisco</td>\n",
       "      <td>Apps, Explorer</td>\n",
       "      <td>3</td>\n",
       "      <td>5</td>\n",
       "      <td>Just right</td>\n",
       "    </tr>\n",
       "    <tr>\n",
       "      <th>19</th>\n",
       "      <td>482</td>\n",
       "      <td>Santa Clara</td>\n",
       "      <td>Apps</td>\n",
       "      <td>3</td>\n",
       "      <td>5</td>\n",
       "      <td>Just right</td>\n",
       "    </tr>\n",
       "    <tr>\n",
       "      <th>20</th>\n",
       "      <td>37</td>\n",
       "      <td>Los Angeles</td>\n",
       "      <td>Games</td>\n",
       "      <td>1</td>\n",
       "      <td>6</td>\n",
       "      <td>Just right</td>\n",
       "    </tr>\n",
       "    <tr>\n",
       "      <th>21</th>\n",
       "      <td>41</td>\n",
       "      <td>Chicago</td>\n",
       "      <td>Apps, Explorer</td>\n",
       "      <td>1</td>\n",
       "      <td>6</td>\n",
       "      <td>Just right</td>\n",
       "    </tr>\n",
       "    <tr>\n",
       "      <th>22</th>\n",
       "      <td>45</td>\n",
       "      <td>Chicago</td>\n",
       "      <td>Apps</td>\n",
       "      <td>1</td>\n",
       "      <td>6</td>\n",
       "      <td>A little too slow</td>\n",
       "    </tr>\n",
       "    <tr>\n",
       "      <th>23</th>\n",
       "      <td>47</td>\n",
       "      <td>Chicago</td>\n",
       "      <td>Apps</td>\n",
       "      <td>1</td>\n",
       "      <td>6</td>\n",
       "      <td>A little too slow</td>\n",
       "    </tr>\n",
       "    <tr>\n",
       "      <th>24</th>\n",
       "      <td>77</td>\n",
       "      <td>San Francisco</td>\n",
       "      <td>Apps</td>\n",
       "      <td>1</td>\n",
       "      <td>6</td>\n",
       "      <td>A little too fast</td>\n",
       "    </tr>\n",
       "    <tr>\n",
       "      <th>25</th>\n",
       "      <td>78</td>\n",
       "      <td>San Francisco</td>\n",
       "      <td>Apps</td>\n",
       "      <td>1</td>\n",
       "      <td>6</td>\n",
       "      <td>A little too fast</td>\n",
       "    </tr>\n",
       "    <tr>\n",
       "      <th>26</th>\n",
       "      <td>94</td>\n",
       "      <td>San Francisco</td>\n",
       "      <td>Apps, Explorer</td>\n",
       "      <td>1</td>\n",
       "      <td>6</td>\n",
       "      <td>Just right</td>\n",
       "    </tr>\n",
       "    <tr>\n",
       "      <th>27</th>\n",
       "      <td>193</td>\n",
       "      <td>Santa Clara</td>\n",
       "      <td>Apps</td>\n",
       "      <td>2</td>\n",
       "      <td>6</td>\n",
       "      <td>Just right</td>\n",
       "    </tr>\n",
       "    <tr>\n",
       "      <th>28</th>\n",
       "      <td>251</td>\n",
       "      <td>San Francisco</td>\n",
       "      <td>Apps, Explorer</td>\n",
       "      <td>2</td>\n",
       "      <td>6</td>\n",
       "      <td>Just right</td>\n",
       "    </tr>\n",
       "    <tr>\n",
       "      <th>29</th>\n",
       "      <td>254</td>\n",
       "      <td>San Francisco</td>\n",
       "      <td>Apps</td>\n",
       "      <td>2</td>\n",
       "      <td>6</td>\n",
       "      <td>Way too fast</td>\n",
       "    </tr>\n",
       "    <tr>\n",
       "      <th>...</th>\n",
       "      <td>...</td>\n",
       "      <td>...</td>\n",
       "      <td>...</td>\n",
       "      <td>...</td>\n",
       "      <td>...</td>\n",
       "      <td>...</td>\n",
       "    </tr>\n",
       "    <tr>\n",
       "      <th>1423</th>\n",
       "      <td>1470</td>\n",
       "      <td>New York City</td>\n",
       "      <td>Games</td>\n",
       "      <td>7</td>\n",
       "      <td>10</td>\n",
       "      <td>Just right</td>\n",
       "    </tr>\n",
       "    <tr>\n",
       "      <th>1424</th>\n",
       "      <td>1471</td>\n",
       "      <td>New York City</td>\n",
       "      <td>Apps</td>\n",
       "      <td>7</td>\n",
       "      <td>8</td>\n",
       "      <td>Just right</td>\n",
       "    </tr>\n",
       "    <tr>\n",
       "      <th>1425</th>\n",
       "      <td>1472</td>\n",
       "      <td>New York City</td>\n",
       "      <td>Games</td>\n",
       "      <td>7</td>\n",
       "      <td>9</td>\n",
       "      <td>Just right</td>\n",
       "    </tr>\n",
       "    <tr>\n",
       "      <th>1426</th>\n",
       "      <td>1473</td>\n",
       "      <td>New York City</td>\n",
       "      <td>Games, Explorer</td>\n",
       "      <td>7</td>\n",
       "      <td>10</td>\n",
       "      <td>Just right</td>\n",
       "    </tr>\n",
       "    <tr>\n",
       "      <th>1427</th>\n",
       "      <td>1474</td>\n",
       "      <td>New York City</td>\n",
       "      <td>Games</td>\n",
       "      <td>7</td>\n",
       "      <td>9</td>\n",
       "      <td>Just right</td>\n",
       "    </tr>\n",
       "    <tr>\n",
       "      <th>1428</th>\n",
       "      <td>1475</td>\n",
       "      <td>New York City</td>\n",
       "      <td>Apps</td>\n",
       "      <td>7</td>\n",
       "      <td>9</td>\n",
       "      <td>Just right</td>\n",
       "    </tr>\n",
       "    <tr>\n",
       "      <th>1429</th>\n",
       "      <td>1476</td>\n",
       "      <td>New York City</td>\n",
       "      <td>Apps</td>\n",
       "      <td>7</td>\n",
       "      <td>8</td>\n",
       "      <td>A little too fast</td>\n",
       "    </tr>\n",
       "    <tr>\n",
       "      <th>1430</th>\n",
       "      <td>1477</td>\n",
       "      <td>New York City</td>\n",
       "      <td>Games</td>\n",
       "      <td>7</td>\n",
       "      <td>10</td>\n",
       "      <td>Just right</td>\n",
       "    </tr>\n",
       "    <tr>\n",
       "      <th>1431</th>\n",
       "      <td>1478</td>\n",
       "      <td>New York City</td>\n",
       "      <td>Apps</td>\n",
       "      <td>7</td>\n",
       "      <td>10</td>\n",
       "      <td>Just right</td>\n",
       "    </tr>\n",
       "    <tr>\n",
       "      <th>1432</th>\n",
       "      <td>1479</td>\n",
       "      <td>New York City</td>\n",
       "      <td>Games</td>\n",
       "      <td>7</td>\n",
       "      <td>9</td>\n",
       "      <td>Just right</td>\n",
       "    </tr>\n",
       "    <tr>\n",
       "      <th>1433</th>\n",
       "      <td>1480</td>\n",
       "      <td>New York City</td>\n",
       "      <td>Apps</td>\n",
       "      <td>7</td>\n",
       "      <td>9</td>\n",
       "      <td>Just right</td>\n",
       "    </tr>\n",
       "    <tr>\n",
       "      <th>1434</th>\n",
       "      <td>1481</td>\n",
       "      <td>New York City</td>\n",
       "      <td>Apps</td>\n",
       "      <td>7</td>\n",
       "      <td>10</td>\n",
       "      <td>Just right</td>\n",
       "    </tr>\n",
       "    <tr>\n",
       "      <th>1435</th>\n",
       "      <td>1482</td>\n",
       "      <td>New York City</td>\n",
       "      <td>Apps</td>\n",
       "      <td>7</td>\n",
       "      <td>8</td>\n",
       "      <td>Just right</td>\n",
       "    </tr>\n",
       "    <tr>\n",
       "      <th>1436</th>\n",
       "      <td>1483</td>\n",
       "      <td>New York City</td>\n",
       "      <td>Apps</td>\n",
       "      <td>7</td>\n",
       "      <td>7</td>\n",
       "      <td>A little too fast</td>\n",
       "    </tr>\n",
       "    <tr>\n",
       "      <th>1437</th>\n",
       "      <td>1484</td>\n",
       "      <td>New York City</td>\n",
       "      <td>Apps, Explorer</td>\n",
       "      <td>7</td>\n",
       "      <td>7</td>\n",
       "      <td>Way too fast</td>\n",
       "    </tr>\n",
       "    <tr>\n",
       "      <th>1438</th>\n",
       "      <td>1485</td>\n",
       "      <td>New York City</td>\n",
       "      <td>Apps</td>\n",
       "      <td>7</td>\n",
       "      <td>7</td>\n",
       "      <td>Just right</td>\n",
       "    </tr>\n",
       "    <tr>\n",
       "      <th>1439</th>\n",
       "      <td>1486</td>\n",
       "      <td>New York City</td>\n",
       "      <td>Apps</td>\n",
       "      <td>7</td>\n",
       "      <td>9</td>\n",
       "      <td>Just right</td>\n",
       "    </tr>\n",
       "    <tr>\n",
       "      <th>1440</th>\n",
       "      <td>1487</td>\n",
       "      <td>New York City</td>\n",
       "      <td>Apps</td>\n",
       "      <td>7</td>\n",
       "      <td>8</td>\n",
       "      <td>Just right</td>\n",
       "    </tr>\n",
       "    <tr>\n",
       "      <th>1441</th>\n",
       "      <td>1488</td>\n",
       "      <td>New York City</td>\n",
       "      <td>Games, Explorer</td>\n",
       "      <td>7</td>\n",
       "      <td>7</td>\n",
       "      <td>Just right</td>\n",
       "    </tr>\n",
       "    <tr>\n",
       "      <th>1442</th>\n",
       "      <td>1489</td>\n",
       "      <td>New York City</td>\n",
       "      <td>Apps, Explorer</td>\n",
       "      <td>7</td>\n",
       "      <td>10</td>\n",
       "      <td>Just right</td>\n",
       "    </tr>\n",
       "    <tr>\n",
       "      <th>1443</th>\n",
       "      <td>1490</td>\n",
       "      <td>New York City</td>\n",
       "      <td>Apps, Explorer</td>\n",
       "      <td>7</td>\n",
       "      <td>10</td>\n",
       "      <td>Just right</td>\n",
       "    </tr>\n",
       "    <tr>\n",
       "      <th>1444</th>\n",
       "      <td>1491</td>\n",
       "      <td>New York City</td>\n",
       "      <td>Games</td>\n",
       "      <td>7</td>\n",
       "      <td>9</td>\n",
       "      <td>A little too fast</td>\n",
       "    </tr>\n",
       "    <tr>\n",
       "      <th>1445</th>\n",
       "      <td>1492</td>\n",
       "      <td>New York City</td>\n",
       "      <td>Apps</td>\n",
       "      <td>7</td>\n",
       "      <td>9</td>\n",
       "      <td>Just right</td>\n",
       "    </tr>\n",
       "    <tr>\n",
       "      <th>1446</th>\n",
       "      <td>1493</td>\n",
       "      <td>New York City</td>\n",
       "      <td>Apps</td>\n",
       "      <td>7</td>\n",
       "      <td>3</td>\n",
       "      <td>Just right</td>\n",
       "    </tr>\n",
       "    <tr>\n",
       "      <th>1447</th>\n",
       "      <td>1494</td>\n",
       "      <td>New York City</td>\n",
       "      <td>Games, Explorer</td>\n",
       "      <td>7</td>\n",
       "      <td>10</td>\n",
       "      <td>Just right</td>\n",
       "    </tr>\n",
       "    <tr>\n",
       "      <th>1448</th>\n",
       "      <td>1495</td>\n",
       "      <td>New York City</td>\n",
       "      <td>Apps, Explorer</td>\n",
       "      <td>7</td>\n",
       "      <td>10</td>\n",
       "      <td>Just right</td>\n",
       "    </tr>\n",
       "    <tr>\n",
       "      <th>1449</th>\n",
       "      <td>1496</td>\n",
       "      <td>New York City</td>\n",
       "      <td>Apps, Explorer</td>\n",
       "      <td>7</td>\n",
       "      <td>8</td>\n",
       "      <td>Just right</td>\n",
       "    </tr>\n",
       "    <tr>\n",
       "      <th>1450</th>\n",
       "      <td>1497</td>\n",
       "      <td>New York City</td>\n",
       "      <td>Apps</td>\n",
       "      <td>7</td>\n",
       "      <td>10</td>\n",
       "      <td>Just right</td>\n",
       "    </tr>\n",
       "    <tr>\n",
       "      <th>1451</th>\n",
       "      <td>1498</td>\n",
       "      <td>New York City</td>\n",
       "      <td>Apps, Explorer</td>\n",
       "      <td>7</td>\n",
       "      <td>1</td>\n",
       "      <td>A little too slow</td>\n",
       "    </tr>\n",
       "    <tr>\n",
       "      <th>1452</th>\n",
       "      <td>1499</td>\n",
       "      <td>New York City</td>\n",
       "      <td>Apps</td>\n",
       "      <td>5</td>\n",
       "      <td>8</td>\n",
       "      <td>Just right</td>\n",
       "    </tr>\n",
       "  </tbody>\n",
       "</table>\n",
       "<p>1448 rows × 6 columns</p>\n",
       "</div>"
      ],
      "text/plain": [
       "        ID       Location            Track  Week  Rating (Num)  \\\n",
       "0      134  San Francisco   Apps, Explorer     1             3   \n",
       "1       36    Los Angeles             Apps     1             4   \n",
       "2      117  San Francisco            Games     1             4   \n",
       "3      253            NaN              NaN     2             4   \n",
       "4      350  New York City   Apps, Explorer     1             4   \n",
       "5       23   Redwood City             Apps     1             5   \n",
       "6       28    Los Angeles             Apps     7             5   \n",
       "7       65  San Francisco             Apps     1             5   \n",
       "8      101    Santa Clara             Apps     1             5   \n",
       "9      124    Santa Clara             Apps     1             5   \n",
       "10     157   Redwood City             Apps     2             5   \n",
       "11     170        Oakland             Apps     2             5   \n",
       "12     255  San Francisco             Apps     2             5   \n",
       "13     289  Washington DC             Apps     1             5   \n",
       "14     299  Washington DC   Apps, Explorer     1             5   \n",
       "15     307            NaN              NaN     3             5   \n",
       "16     319   Redwood City             Apps     3             5   \n",
       "17     336  New York City             Apps     1             5   \n",
       "18     441  San Francisco   Apps, Explorer     3             5   \n",
       "19     482    Santa Clara             Apps     3             5   \n",
       "20      37    Los Angeles            Games     1             6   \n",
       "21      41        Chicago   Apps, Explorer     1             6   \n",
       "22      45        Chicago             Apps     1             6   \n",
       "23      47        Chicago             Apps     1             6   \n",
       "24      77  San Francisco             Apps     1             6   \n",
       "25      78  San Francisco             Apps     1             6   \n",
       "26      94  San Francisco   Apps, Explorer     1             6   \n",
       "27     193    Santa Clara             Apps     2             6   \n",
       "28     251  San Francisco   Apps, Explorer     2             6   \n",
       "29     254  San Francisco             Apps     2             6   \n",
       "...    ...            ...              ...   ...           ...   \n",
       "1423  1470  New York City            Games     7            10   \n",
       "1424  1471  New York City             Apps     7             8   \n",
       "1425  1472  New York City            Games     7             9   \n",
       "1426  1473  New York City  Games, Explorer     7            10   \n",
       "1427  1474  New York City            Games     7             9   \n",
       "1428  1475  New York City             Apps     7             9   \n",
       "1429  1476  New York City             Apps     7             8   \n",
       "1430  1477  New York City            Games     7            10   \n",
       "1431  1478  New York City             Apps     7            10   \n",
       "1432  1479  New York City            Games     7             9   \n",
       "1433  1480  New York City             Apps     7             9   \n",
       "1434  1481  New York City             Apps     7            10   \n",
       "1435  1482  New York City             Apps     7             8   \n",
       "1436  1483  New York City             Apps     7             7   \n",
       "1437  1484  New York City   Apps, Explorer     7             7   \n",
       "1438  1485  New York City             Apps     7             7   \n",
       "1439  1486  New York City             Apps     7             9   \n",
       "1440  1487  New York City             Apps     7             8   \n",
       "1441  1488  New York City  Games, Explorer     7             7   \n",
       "1442  1489  New York City   Apps, Explorer     7            10   \n",
       "1443  1490  New York City   Apps, Explorer     7            10   \n",
       "1444  1491  New York City            Games     7             9   \n",
       "1445  1492  New York City             Apps     7             9   \n",
       "1446  1493  New York City             Apps     7             3   \n",
       "1447  1494  New York City  Games, Explorer     7            10   \n",
       "1448  1495  New York City   Apps, Explorer     7            10   \n",
       "1449  1496  New York City   Apps, Explorer     7             8   \n",
       "1450  1497  New York City             Apps     7            10   \n",
       "1451  1498  New York City   Apps, Explorer     7             1   \n",
       "1452  1499  New York City             Apps     5             8   \n",
       "\n",
       "        Schedule Pacing  \n",
       "0            Just right  \n",
       "1     A little too fast  \n",
       "2          Way too slow  \n",
       "3     A little too fast  \n",
       "4            Just right  \n",
       "5            Just right  \n",
       "6            Just right  \n",
       "7     A little too slow  \n",
       "8     A little too slow  \n",
       "9            Just right  \n",
       "10           Just right  \n",
       "11           Just right  \n",
       "12         Way too fast  \n",
       "13           Just right  \n",
       "14    A little too slow  \n",
       "15    A little too slow  \n",
       "16           Just right  \n",
       "17    A little too slow  \n",
       "18           Just right  \n",
       "19           Just right  \n",
       "20           Just right  \n",
       "21           Just right  \n",
       "22    A little too slow  \n",
       "23    A little too slow  \n",
       "24    A little too fast  \n",
       "25    A little too fast  \n",
       "26           Just right  \n",
       "27           Just right  \n",
       "28           Just right  \n",
       "29         Way too fast  \n",
       "...                 ...  \n",
       "1423         Just right  \n",
       "1424         Just right  \n",
       "1425         Just right  \n",
       "1426         Just right  \n",
       "1427         Just right  \n",
       "1428         Just right  \n",
       "1429  A little too fast  \n",
       "1430         Just right  \n",
       "1431         Just right  \n",
       "1432         Just right  \n",
       "1433         Just right  \n",
       "1434         Just right  \n",
       "1435         Just right  \n",
       "1436  A little too fast  \n",
       "1437       Way too fast  \n",
       "1438         Just right  \n",
       "1439         Just right  \n",
       "1440         Just right  \n",
       "1441         Just right  \n",
       "1442         Just right  \n",
       "1443         Just right  \n",
       "1444  A little too fast  \n",
       "1445         Just right  \n",
       "1446         Just right  \n",
       "1447         Just right  \n",
       "1448         Just right  \n",
       "1449         Just right  \n",
       "1450         Just right  \n",
       "1451  A little too slow  \n",
       "1452         Just right  \n",
       "\n",
       "[1448 rows x 6 columns]"
      ]
     },
     "execution_count": 80,
     "metadata": {},
     "output_type": "execute_result"
    }
   ],
   "source": [
    "df"
   ]
  },
  {
   "cell_type": "markdown",
   "metadata": {},
   "source": [
    "## Rid our dataset of (3) invalid ratings"
   ]
  },
  {
   "cell_type": "code",
   "execution_count": 5,
   "metadata": {},
   "outputs": [],
   "source": [
    "df = df[ df[\"Rating (Num)\"] != '#ERROR!']\n",
    "df = df[ df[\"Rating (Num)\"] != '0']\n",
    "df[\"Rating (Num)\"] = df[\"Rating (Num)\"].astype(int)"
   ]
  },
  {
   "cell_type": "code",
   "execution_count": 6,
   "metadata": {},
   "outputs": [
    {
     "data": {
      "text/plain": [
       "array([ 3,  4,  5,  6,  7,  8,  9, 10,  1,  2])"
      ]
     },
     "execution_count": 6,
     "metadata": {},
     "output_type": "execute_result"
    }
   ],
   "source": [
    "df[\"Rating (Num)\"].unique()"
   ]
  },
  {
   "cell_type": "markdown",
   "metadata": {},
   "source": [
    "# How many more promoters are there than detractors across our 2017 data?"
   ]
  },
  {
   "cell_type": "code",
   "execution_count": 8,
   "metadata": {},
   "outputs": [
    {
     "data": {
      "text/plain": [
       "760"
      ]
     },
     "execution_count": 8,
     "metadata": {},
     "output_type": "execute_result"
    }
   ],
   "source": [
    "def count_promoters(df):\n",
    "    return (df[\"Rating (Num)\"] >= 9).sum()\n",
    "\n",
    "num_of_promoters = count_promoters(df)\n",
    "num_of_promoters"
   ]
  },
  {
   "cell_type": "code",
   "execution_count": 9,
   "metadata": {},
   "outputs": [
    {
     "data": {
      "text/plain": [
       "569"
      ]
     },
     "execution_count": 9,
     "metadata": {},
     "output_type": "execute_result"
    }
   ],
   "source": [
    "def count_passives(df):\n",
    "    return (df[\"Rating (Num)\"] >= 7).sum() - count_promoters(df)\n",
    "num_of_passives = count_passives(df)\n",
    "num_of_passives"
   ]
  },
  {
   "cell_type": "code",
   "execution_count": 10,
   "metadata": {},
   "outputs": [
    {
     "data": {
      "text/plain": [
       "119"
      ]
     },
     "execution_count": 10,
     "metadata": {},
     "output_type": "execute_result"
    }
   ],
   "source": [
    "def count_detractors(df):\n",
    "    return (df[\"Rating (Num)\"] <= 6).sum()\n",
    "num_of_detractors = count_detractors(df)\n",
    "num_of_detractors"
   ]
  },
  {
   "cell_type": "code",
   "execution_count": 11,
   "metadata": {},
   "outputs": [
    {
     "data": {
      "text/plain": [
       "True"
      ]
     },
     "execution_count": 11,
     "metadata": {},
     "output_type": "execute_result"
    }
   ],
   "source": [
    "total = num_of_detractors + num_of_passives + num_of_promoters\n",
    "actual_total = len(df)\n",
    "actual_total == total"
   ]
  },
  {
   "cell_type": "code",
   "execution_count": 12,
   "metadata": {},
   "outputs": [],
   "source": [
    "def calculate_nps(promoters, passives, detractors):\n",
    "     return (promoters - detractors) / (promoters + passives + detractors)"
   ]
  },
  {
   "cell_type": "code",
   "execution_count": 13,
   "metadata": {},
   "outputs": [
    {
     "data": {
      "text/plain": [
       "44.267955801104975"
      ]
     },
     "execution_count": 13,
     "metadata": {},
     "output_type": "execute_result"
    }
   ],
   "source": [
    "calculate_nps(num_of_promoters, num_of_passives, num_of_detractors) * 100"
   ]
  },
  {
   "cell_type": "code",
   "execution_count": 14,
   "metadata": {},
   "outputs": [
    {
     "data": {
      "text/plain": [
       "(array([  2.,   2.,   8.,  13.,  35.,  59., 177., 392., 384., 376.]),\n",
       " array([ 1. ,  1.9,  2.8,  3.7,  4.6,  5.5,  6.4,  7.3,  8.2,  9.1, 10. ]),\n",
       " <a list of 10 Patch objects>)"
      ]
     },
     "execution_count": 14,
     "metadata": {},
     "output_type": "execute_result"
    },
    {
     "data": {
      "image/png": "[encoded data removed]",
      "text/plain": [
       "<Figure size 432x288 with 1 Axes>"
      ]
     },
     "metadata": {
      "needs_background": "light"
     },
     "output_type": "display_data"
    }
   ],
   "source": [
    "plt.hist(df[\"Rating (Num)\"])"
   ]
  },
  {
   "cell_type": "code",
   "execution_count": 15,
   "metadata": {},
   "outputs": [],
   "source": [
    "def week_str_to_int(week):\n",
    "    return int(week[-1])\n",
    "\n",
    "week_arr = [week_str_to_int(week) for week in df['Week']]\n",
    "df['Week'] = week_arr\n"
   ]
  },
  {
   "cell_type": "markdown",
   "metadata": {},
   "source": [
    "# Which track boasts the best promoter-to-detractor ratio?"
   ]
  },
  {
   "cell_type": "code",
   "execution_count": 16,
   "metadata": {},
   "outputs": [
    {
     "data": {
      "text/plain": [
       "{'Apps, Explorer': 0.7913043478260869,\n",
       " 'Apps': 0.8504854368932039,\n",
       " 'Games': 0.9366197183098591,\n",
       " 'VR': 0.9583333333333334,\n",
       " 'Games, Explorer': 1.0}"
      ]
     },
     "execution_count": 16,
     "metadata": {},
     "output_type": "execute_result"
    }
   ],
   "source": [
    "tracks = df['Track'].dropna().unique()\n",
    "track_promoter_detractor_ratio = {}\n",
    "for track in tracks:\n",
    "    temp_df = df[df['Track'] == track]\n",
    "    track_promoter_detractor_ratio[track] = count_promoters(temp_df) / (count_detractors(temp_df) + count_promoters(temp_df))\n",
    "track_promoter_detractor_ratio"
   ]
  },
  {
   "cell_type": "markdown",
   "metadata": {},
   "source": [
    "# Does the student experience get better the longer that they are enrolled at the Summer Academy?\n"
   ]
  },
  {
   "cell_type": "code",
   "execution_count": 39,
   "metadata": {},
   "outputs": [
    {
     "data": {
      "text/plain": [
       "[<matplotlib.lines.Line2D at 0x11f214208>]"
      ]
     },
     "execution_count": 39,
     "metadata": {},
     "output_type": "execute_result"
    },
    {
     "data": {
      "image/png": "[encoded data removed]",
      "text/plain": [
       "<Figure size 432x288 with 1 Axes>"
      ]
     },
     "metadata": {
      "needs_background": "light"
     },
     "output_type": "display_data"
    }
   ],
   "source": [
    "weeks_in_order = sorted(df['Week'].unique())\n",
    "average_rating_by_week = [(df[df['Week'] == week]['Rating (Num)']).mean() for week in weeks_in_order]\n",
    "\n",
    "plt.plot(weeks_in_order, average_rating_by_week)"
   ]
  },
  {
   "cell_type": "markdown",
   "metadata": {},
   "source": [
    "# Does student satisfaction vary by location?"
   ]
  },
  {
   "cell_type": "code",
   "execution_count": 202,
   "metadata": {},
   "outputs": [
    {
     "data": {
      "text/plain": [
       "[<matplotlib.lines.Line2D at 0x1230e5c88>]"
      ]
     },
     "execution_count": 202,
     "metadata": {},
     "output_type": "execute_result"
    },
    {
     "data": {
      "image/png": "[encoded data removed]",
      "text/plain": [
       "<Figure size 432x288 with 1 Axes>"
      ]
     },
     "metadata": {
      "needs_background": "light"
     },
     "output_type": "display_data"
    }
   ],
   "source": [
    "locations = df['Location'].dropna().unique()\n",
    "average_rating_by_location = [(df[df['Location'] == location]['Rating (Num)']).mean() for location in locations]\n",
    "\n",
    "plt.plot(average_rating_by_location, locations, 'ro', color='c')\n",
    "\n",
    "# dic = dict(zip(locations, average_rating_by_location))\n",
    "# plt.plot(list(dic))"
   ]
  },
  {
   "cell_type": "markdown",
   "metadata": {},
   "source": [
    "# What are things we could find here that could “help the business”?"
   ]
  },
  {
   "cell_type": "code",
   "execution_count": 205,
   "metadata": {},
   "outputs": [
    {
     "data": {
      "text/plain": [
       "[<matplotlib.lines.Line2D at 0x12372db00>]"
      ]
     },
     "execution_count": 205,
     "metadata": {},
     "output_type": "execute_result"
    },
    {
     "data": {
      "image/png": "[encoded data removed]",
      "text/plain": [
       "<Figure size 432x288 with 1 Axes>"
      ]
     },
     "metadata": {
      "needs_background": "light"
     },
     "output_type": "display_data"
    }
   ],
   "source": [
    "# pacings = sorted(df['Schedule Pacing'].dropna().unique())\n",
    "pacings = ['Way too slow', 'A little too slow', 'Just right', 'A little too fast', 'Way too fast']\n",
    "pacing_counts = [len(df[df['Schedule Pacing'] == pace]['Schedule Pacing']) for pace in pacings]\n",
    "pacings_to_counts = list(zip(pacings, pacing_counts))\n",
    "plt.plot(pacing_counts, pacings, 'ro', color='c')"
   ]
  },
  {
   "cell_type": "code",
   "execution_count": 85,
   "metadata": {},
   "outputs": [
    {
     "data": {
      "text/plain": [
       "array(['Apps, Explorer', 'Apps', 'Games', 'VR', 'Games, Explorer'],\n",
       "      dtype=object)"
      ]
     },
     "execution_count": 85,
     "metadata": {},
     "output_type": "execute_result"
    }
   ],
   "source": [
    "tracks = df['Track'].dropna().unique()"
   ]
  },
  {
   "cell_type": "code",
   "execution_count": 206,
   "metadata": {},
   "outputs": [],
   "source": [
    "def plot_pace_to_track(track, clr):\n",
    "    pacings = ['Way too slow', 'A little too slow', 'Just right', 'A little too fast', 'Way too fast']\n",
    "    total_students_in_track = (df['Track'] == track).sum()\n",
    "    pacing_counts = [(df[df['Track'] == track]['Schedule Pacing'] == pace).sum() / total_students_in_track for pace in pacings]\n",
    "    plt.plot(pacing_counts, pacings, 'ro', color=clr, label =track)"
   ]
  },
  {
   "cell_type": "code",
   "execution_count": 207,
   "metadata": {},
   "outputs": [
    {
     "data": {
      "text/plain": [
       "<matplotlib.legend.Legend at 0x1238b3e48>"
      ]
     },
     "execution_count": 207,
     "metadata": {},
     "output_type": "execute_result"
    },
    {
     "data": {
      "image/png": "[encoded data removed]",
      "text/plain": [
       "<Figure size 432x288 with 1 Axes>"
      ]
     },
     "metadata": {
      "needs_background": "light"
     },
     "output_type": "display_data"
    }
   ],
   "source": [
    "plot_pace_to_track('Apps, Explorer', 'b')\n",
    "plot_pace_to_track('Apps', 'g')\n",
    "plot_pace_to_track('Games', 'r')\n",
    "plot_pace_to_track('VR', 'c')\n",
    "plot_pace_to_track('Games, Explorer', 'm')\n",
    "plt.legend(loc='upper right')"
   ]
  },
  {
   "cell_type": "code",
   "execution_count": 140,
   "metadata": {},
   "outputs": [],
   "source": [
    "def calc_df_nps(df):\n",
    "    detractors = count_detractors(df)\n",
    "    promoters = count_promoters(df)\n",
    "    passives = count_passives(df)\n",
    "    return calculate_nps(promoters, passives, detractors) * 100"
   ]
  },
  {
   "cell_type": "code",
   "execution_count": 208,
   "metadata": {},
   "outputs": [
    {
     "data": {
      "text/plain": [
       "Text(0.5, 1.0, 'NPS by track')"
      ]
     },
     "execution_count": 208,
     "metadata": {},
     "output_type": "execute_result"
    },
    {
     "data": {
      "image/png": "[encoded data removed]",
      "text/plain": [
       "<Figure size 432x288 with 1 Axes>"
      ]
     },
     "metadata": {
      "needs_background": "light"
     },
     "output_type": "display_data"
    }
   ],
   "source": [
    "colors = ['b', 'g', 'r', 'c', 'm']\n",
    "\n",
    "for i, track in enumerate(tracks):\n",
    "    nps = calc_df_nps(df[df['Track'] == track])\n",
    "    plt.plot(nps, track, 'ro', label=int(nps * 100)/100, color = colors[i])\n",
    "    i += 1\n",
    "plt.xlim(0, 100)\n",
    "plt.legend(loc='upper left')\n",
    "plt.title('NPS by track')"
   ]
  },
  {
   "cell_type": "code",
   "execution_count": 200,
   "metadata": {},
   "outputs": [
    {
     "data": {
      "text/plain": [
       "<matplotlib.legend.Legend at 0x1230b0978>"
      ]
     },
     "execution_count": 200,
     "metadata": {},
     "output_type": "execute_result"
    },
    {
     "data": {
      "image/png": "[encoded data removed]",
      "text/plain": [
       "<Figure size 432x288 with 1 Axes>"
      ]
     },
     "metadata": {
      "needs_background": "light"
     },
     "output_type": "display_data"
    }
   ],
   "source": [
    "npses = []\n",
    "avg_ratings = []\n",
    "p_of_dets = []\n",
    "p_of_pros = []\n",
    "p_of_passes = []\n",
    "\n",
    "for track in tracks:\n",
    "    track_df = df[df['Track'] == track]\n",
    "    npses.append(calc_df_nps(track_df))\n",
    "    avg_ratings.append(track_df['Rating (Num)'].sum() / len(track_df) * 10)\n",
    "    p_of_dets.append(count_detractors(track_df) / len(track_df) * 100)\n",
    "    p_of_pros.append(count_promoters(track_df) / len(track_df) * 100)\n",
    "    p_of_passes.append(count_passives(track_df) / len(track_df) * 100)\n",
    "\n",
    "plt.plot(npses, tracks, 'ro', color = 'r', label='NPS')\n",
    "plt.plot(avg_ratings, tracks, 'ro', color = 'g', label='average rating')\n",
    "plt.plot(p_of_dets, tracks, 'ro', color = 'b', label='percentage of detractors')\n",
    "plt.plot(p_of_pros, tracks, 'ro', color = 'c', label='percentage of promoters')\n",
    "plt.plot(p_of_passes, tracks, 'ro', color = 'm', label='percentage of passives')\n",
    "\n",
    "plt.xlim(0, 100)\n",
    "plt.legend(loc='upper center', bbox_to_anchor=(1.45, 0.8), shadow=True, ncol=1)"
   ]
  },
  {
   "cell_type": "code",
   "execution_count": null,
   "metadata": {},
   "outputs": [],
   "source": []
  },
  {
   "cell_type": "code",
   "execution_count": null,
   "metadata": {},
   "outputs": [],
   "source": []
  }
 ],
 "metadata": {
  "kernelspec": {
   "display_name": "Python 3",
   "language": "python",
   "name": "python3"
  },
  "language_info": {
   "codemirror_mode": {
    "name": "ipython",
    "version": 3
   },
   "file_extension": ".py",
   "mimetype": "text/x-python",
   "name": "python",
   "nbconvert_exporter": "python",
   "pygments_lexer": "ipython3",
   "version": "3.7.3"
  }
 },
 "nbformat": 4,
 "nbformat_minor": 2
}
